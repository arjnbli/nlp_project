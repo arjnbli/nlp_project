{
  "nbformat": 4,
  "nbformat_minor": 0,
  "metadata": {
    "colab": {
      "name": "Train Pytorch",
      "provenance": [],
      "private_outputs": true,
      "authorship_tag": "ABX9TyNpNe1bz6g5Djbov2GYhPjG",
      "include_colab_link": true
    },
    "kernelspec": {
      "name": "python3",
      "display_name": "Python 3"
    },
    "accelerator": "GPU"
  },
  "cells": [
    {
      "cell_type": "markdown",
      "metadata": {
        "id": "view-in-github",
        "colab_type": "text"
      },
      "source": [
        "<a href=\"https://colab.research.google.com/github/taoyilee/nlp_project/blob/colab/Train_Pytorch.ipynb\" target=\"_parent\"><img src=\"https://colab.research.google.com/assets/colab-badge.svg\" alt=\"Open In Colab\"/></a>"
      ]
    },
    {
      "cell_type": "code",
      "metadata": {
        "id": "2NOmyXnZvG3s",
        "colab_type": "code",
        "colab": {}
      },
      "source": [
        "#%%capture\n",
        "!pip install -U git+https://github.com/taoyilee/nlp_project.git@dev"
      ],
      "execution_count": 0,
      "outputs": []
    },
    {
      "cell_type": "markdown",
      "metadata": {
        "id": "cVlatDCmJIK4",
        "colab_type": "text"
      },
      "source": [
        "Setup dataset from Big Query"
      ]
    },
    {
      "cell_type": "code",
      "metadata": {
        "id": "99W-_44UG-Y6",
        "colab_type": "code",
        "colab": {}
      },
      "source": [
        "from google.colab import drive\n",
        "drive.mount(\"/gdrive\")"
      ],
      "execution_count": 0,
      "outputs": []
    },
    {
      "cell_type": "code",
      "metadata": {
        "id": "pCzbku9JtGPh",
        "colab_type": "code",
        "colab": {}
      },
      "source": [
        "%env GOOGLE_APPLICATION_CREDENTIALS=/gdrive/My Drive/UCI/06_Winter_2020/cs272_nlp/output/focus-empire-270208-c2b3d243dbce.json"
      ],
      "execution_count": 0,
      "outputs": []
    },
    {
      "cell_type": "code",
      "metadata": {
        "id": "DrdBF7M6j1V1",
        "colab_type": "code",
        "colab": {}
      },
      "source": [
        "import os\n",
        "output_dir = '/gdrive/My Drive/UCI/06_Winter_2020/cs272_nlp/output'\n",
        "with open(os.path.join(output_dir, 'foo.txt'), 'w') as f:\n",
        "  f.write('Hello Google Drive!')"
      ],
      "execution_count": 0,
      "outputs": []
    },
    {
      "cell_type": "code",
      "metadata": {
        "id": "xJxRVb5khlwU",
        "colab_type": "code",
        "colab": {}
      },
      "source": [
        "from cs272_project import api\n",
        "from cs272_project.config import Configuration\n",
        "from importlib import reload \n",
        "api = reload(api)\n",
        "\n",
        "config = Configuration()\n",
        "config.default.config_obj[\"output_dir\"] = os.path.join(output_dir, 'experiment1')\n",
        "print(config)"
      ],
      "execution_count": 0,
      "outputs": []
    },
    {
      "cell_type": "code",
      "metadata": {
        "id": "YS4QN9cAh9A6",
        "colab_type": "code",
        "colab": {}
      },
      "source": [
        "api.fine_tune(config, model=\"gpt2\", batch_size=2)"
      ],
      "execution_count": 0,
      "outputs": []
    }
  ]
}