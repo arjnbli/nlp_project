{
  "nbformat": 4,
  "nbformat_minor": 0,
  "metadata": {
    "colab": {
      "name": "Train Pytorch",
      "provenance": [],
      "private_outputs": true,
      "authorship_tag": "ABX9TyPKqbiQDTJ3F2L+v8zvzJWa",
      "include_colab_link": true
    },
    "kernelspec": {
      "name": "python3",
      "display_name": "Python 3"
    },
    "accelerator": "GPU"
  },
  "cells": [
    {
      "cell_type": "markdown",
      "metadata": {
        "id": "view-in-github",
        "colab_type": "text"
      },
      "source": [
        "<a href=\"https://colab.research.google.com/github/taoyilee/nlp_project/blob/colab/Train_Pytorch.ipynb\" target=\"_parent\"><img src=\"https://colab.research.google.com/assets/colab-badge.svg\" alt=\"Open In Colab\"/></a>"
      ]
    },
    {
      "cell_type": "markdown",
      "metadata": {
        "id": "cVlatDCmJIK4",
        "colab_type": "text"
      },
      "source": [
        "Setup dataset from Big Query"
      ]
    },
    {
      "cell_type": "code",
      "metadata": {
        "id": "ZyC8mRHiJb7Z",
        "colab_type": "code",
        "colab": {}
      },
      "source": [
        "from google.colab import auth\n",
        "from google.cloud import bigquery\n",
        "\n",
        "auth.authenticate_user()\n",
        "print('Authenticated')"
      ],
      "execution_count": 0,
      "outputs": []
    },
    {
      "cell_type": "code",
      "metadata": {
        "id": "MomrKSAKF5na",
        "colab_type": "code",
        "colab": {}
      },
      "source": [
        "!pip install -q -U git+https://github.com/taoyilee/nlp_project.git@dev"
      ],
      "execution_count": 0,
      "outputs": []
    },
    {
      "cell_type": "code",
      "metadata": {
        "id": "99W-_44UG-Y6",
        "colab_type": "code",
        "colab": {}
      },
      "source": [
        "from google.colab import drive\n",
        "drive.mount(\"/gdrive\")"
      ],
      "execution_count": 0,
      "outputs": []
    },
    {
      "cell_type": "code",
      "metadata": {
        "id": "DrdBF7M6j1V1",
        "colab_type": "code",
        "colab": {}
      },
      "source": [
        "import os\n",
        "output_dir = '/gdrive/My Drive/UCI/06_Winter_2020/cs272_nlp/output'\n",
        "with open(os.path.join(output_dir, 'foo.txt'), 'w') as f:\n",
        "  f.write('Hello Google Drive!')"
      ],
      "execution_count": 0,
      "outputs": []
    },
    {
      "cell_type": "code",
      "metadata": {
        "id": "xJxRVb5khlwU",
        "colab_type": "code",
        "colab": {}
      },
      "source": [
        "from cs272_project.api import fine_tune\n",
        "from cs272_project.config import Configuration\n",
        "\n",
        "config = Configuration()\n",
        "config.default.config_obj[\"output_dir\"] = os.path.join(output_dir, 'experiment1')\n",
        "print(config)"
      ],
      "execution_count": 0,
      "outputs": []
    },
    {
      "cell_type": "code",
      "metadata": {
        "id": "YS4QN9cAh9A6",
        "colab_type": "code",
        "colab": {}
      },
      "source": [
        "fine_tune(config, model=\"gpt2\")"
      ],
      "execution_count": 0,
      "outputs": []
    }
  ]
}